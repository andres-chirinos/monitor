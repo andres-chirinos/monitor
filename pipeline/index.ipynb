{
 "cells": [
  {
   "cell_type": "code",
   "execution_count": 1,
   "id": "4aece1ac",
   "metadata": {},
   "outputs": [],
   "source": [
    "import pandas as pd\n",
    "import json\n",
    "import glob\n",
    "import yaml\n",
    "from datetime import datetime\n",
    "from urllib.parse import urlparse"
   ]
  },
  {
   "cell_type": "code",
   "execution_count": 2,
   "id": "f9f66e50",
   "metadata": {},
   "outputs": [],
   "source": [
    "with open(\"../history/summary.json\") as f:\n",
    "    data = json.load(f)\n",
    "\n",
    "dfs = []\n",
    "for item in data:\n",
    "    temp_df = pd.DataFrame(\n",
    "        item[\"dailyMinutesDown\"].items(), columns=[\"date\", \"time\"]\n",
    "    )\n",
    "    temp_df[\"domain\"] = urlparse(item[\"url\"]).netloc\n",
    "    temp_df[\"type\"] = \"down\"\n",
    "    dfs.append(temp_df)\n",
    "\n",
    "df = pd.concat(dfs, ignore_index=True)"
   ]
  },
  {
   "cell_type": "code",
   "execution_count": 3,
   "id": "98040b46",
   "metadata": {},
   "outputs": [
    {
     "data": {
      "application/vnd.microsoft.datawrangler.viewer.v0+json": {
       "columns": [
        {
         "name": "index",
         "rawType": "int64",
         "type": "integer"
        },
        {
         "name": "date",
         "rawType": "object",
         "type": "string"
        },
        {
         "name": "time",
         "rawType": "object",
         "type": "unknown"
        },
        {
         "name": "domain",
         "rawType": "object",
         "type": "string"
        },
        {
         "name": "type",
         "rawType": "object",
         "type": "string"
        }
       ],
       "conversionMethod": "pd.DataFrame",
       "ref": "fb31a333-15ff-453e-9de1-368edfc27651",
       "rows": [
        [
         "0",
         "2025-04-20",
         "24",
         "www.anh.gob.bo",
         "down"
        ],
        [
         "1",
         "2025-03-27",
         "13",
         "www.anh.gob.bo",
         "down"
        ],
        [
         "2",
         "2025-03-18",
         "31",
         "www.anh.gob.bo",
         "down"
        ],
        [
         "3",
         "2025-03-07",
         "33",
         "www.anh.gob.bo",
         "down"
        ],
        [
         "4",
         "2025-02-22",
         "13",
         "www.anh.gob.bo",
         "down"
        ],
        [
         "5",
         "2025-02-13",
         "28",
         "www.anh.gob.bo",
         "down"
        ],
        [
         "6",
         "2025-01-09",
         "13",
         "www.anh.gob.bo",
         "down"
        ],
        [
         "7",
         "2024-12-19",
         "31",
         "www.anh.gob.bo",
         "down"
        ],
        [
         "8",
         "2025-04-16",
         "1040",
         "www.segip.gob.bo",
         "down"
        ],
        [
         "9",
         "2025-04-14",
         "1189",
         "www.segip.gob.bo",
         "down"
        ],
        [
         "10",
         "2025-04-13",
         "1440",
         "www.segip.gob.bo",
         "down"
        ],
        [
         "11",
         "2025-04-12",
         "1440",
         "www.segip.gob.bo",
         "down"
        ],
        [
         "12",
         "2025-04-11",
         "334",
         "www.segip.gob.bo",
         "down"
        ],
        [
         "13",
         "2025-04-10",
         "102",
         "www.segip.gob.bo",
         "down"
        ],
        [
         "14",
         "2025-04-09",
         "86",
         "www.segip.gob.bo",
         "down"
        ],
        [
         "15",
         "2025-04-08",
         "222",
         "www.segip.gob.bo",
         "down"
        ],
        [
         "16",
         "2025-04-07",
         "172",
         "www.segip.gob.bo",
         "down"
        ],
        [
         "17",
         "2025-04-06",
         "243",
         "www.segip.gob.bo",
         "down"
        ],
        [
         "18",
         "2025-04-05",
         "70",
         "www.segip.gob.bo",
         "down"
        ],
        [
         "19",
         "2025-04-04",
         "310",
         "www.segip.gob.bo",
         "down"
        ],
        [
         "20",
         "2025-04-03",
         "227",
         "www.segip.gob.bo",
         "down"
        ],
        [
         "21",
         "2025-04-02",
         "175",
         "www.segip.gob.bo",
         "down"
        ],
        [
         "22",
         "2025-04-01",
         "390",
         "www.segip.gob.bo",
         "down"
        ],
        [
         "23",
         "2025-03-31",
         "580",
         "www.segip.gob.bo",
         "down"
        ],
        [
         "24",
         "2025-03-30",
         "493",
         "www.segip.gob.bo",
         "down"
        ],
        [
         "25",
         "2025-04-22",
         "102",
         "www.impuestos.gob.bo",
         "down"
        ],
        [
         "26",
         "2025-04-21",
         "1440",
         "www.impuestos.gob.bo",
         "down"
        ],
        [
         "27",
         "2025-04-20",
         "1440",
         "www.impuestos.gob.bo",
         "down"
        ],
        [
         "28",
         "2025-04-19",
         "1440",
         "www.impuestos.gob.bo",
         "down"
        ],
        [
         "29",
         "2025-04-18",
         "1440",
         "www.impuestos.gob.bo",
         "down"
        ],
        [
         "30",
         "2025-04-17",
         "1440",
         "www.impuestos.gob.bo",
         "down"
        ],
        [
         "31",
         "2025-04-16",
         "1440",
         "www.impuestos.gob.bo",
         "down"
        ],
        [
         "32",
         "2025-04-15",
         "1440",
         "www.impuestos.gob.bo",
         "down"
        ],
        [
         "33",
         "2025-04-14",
         "1440",
         "www.impuestos.gob.bo",
         "down"
        ],
        [
         "34",
         "2025-04-13",
         "1440",
         "www.impuestos.gob.bo",
         "down"
        ],
        [
         "35",
         "2025-04-12",
         "1440",
         "www.impuestos.gob.bo",
         "down"
        ],
        [
         "36",
         "2025-04-11",
         "1440",
         "www.impuestos.gob.bo",
         "down"
        ],
        [
         "37",
         "2025-04-10",
         "1440",
         "www.impuestos.gob.bo",
         "down"
        ],
        [
         "38",
         "2025-04-09",
         "1440",
         "www.impuestos.gob.bo",
         "down"
        ],
        [
         "39",
         "2025-04-08",
         "1440",
         "www.impuestos.gob.bo",
         "down"
        ],
        [
         "40",
         "2025-04-07",
         "1440",
         "www.impuestos.gob.bo",
         "down"
        ],
        [
         "41",
         "2025-04-06",
         "1440",
         "www.impuestos.gob.bo",
         "down"
        ],
        [
         "42",
         "2025-04-05",
         "1440",
         "www.impuestos.gob.bo",
         "down"
        ],
        [
         "43",
         "2025-04-04",
         "1440",
         "www.impuestos.gob.bo",
         "down"
        ],
        [
         "44",
         "2025-04-03",
         "1440",
         "www.impuestos.gob.bo",
         "down"
        ],
        [
         "45",
         "2025-04-02",
         "1440",
         "www.impuestos.gob.bo",
         "down"
        ],
        [
         "46",
         "2025-04-01",
         "1440",
         "www.impuestos.gob.bo",
         "down"
        ],
        [
         "47",
         "2025-03-31",
         "1440",
         "www.impuestos.gob.bo",
         "down"
        ],
        [
         "48",
         "2025-03-30",
         "1440",
         "www.impuestos.gob.bo",
         "down"
        ],
        [
         "49",
         "2025-03-29",
         "1440",
         "www.impuestos.gob.bo",
         "down"
        ]
       ],
       "shape": {
        "columns": 4,
        "rows": 1134
       }
      },
      "text/html": [
       "<div>\n",
       "<style scoped>\n",
       "    .dataframe tbody tr th:only-of-type {\n",
       "        vertical-align: middle;\n",
       "    }\n",
       "\n",
       "    .dataframe tbody tr th {\n",
       "        vertical-align: top;\n",
       "    }\n",
       "\n",
       "    .dataframe thead th {\n",
       "        text-align: right;\n",
       "    }\n",
       "</style>\n",
       "<table border=\"1\" class=\"dataframe\">\n",
       "  <thead>\n",
       "    <tr style=\"text-align: right;\">\n",
       "      <th></th>\n",
       "      <th>date</th>\n",
       "      <th>time</th>\n",
       "      <th>domain</th>\n",
       "      <th>type</th>\n",
       "    </tr>\n",
       "  </thead>\n",
       "  <tbody>\n",
       "    <tr>\n",
       "      <th>0</th>\n",
       "      <td>2025-04-20</td>\n",
       "      <td>24</td>\n",
       "      <td>www.anh.gob.bo</td>\n",
       "      <td>down</td>\n",
       "    </tr>\n",
       "    <tr>\n",
       "      <th>1</th>\n",
       "      <td>2025-03-27</td>\n",
       "      <td>13</td>\n",
       "      <td>www.anh.gob.bo</td>\n",
       "      <td>down</td>\n",
       "    </tr>\n",
       "    <tr>\n",
       "      <th>2</th>\n",
       "      <td>2025-03-18</td>\n",
       "      <td>31</td>\n",
       "      <td>www.anh.gob.bo</td>\n",
       "      <td>down</td>\n",
       "    </tr>\n",
       "    <tr>\n",
       "      <th>3</th>\n",
       "      <td>2025-03-07</td>\n",
       "      <td>33</td>\n",
       "      <td>www.anh.gob.bo</td>\n",
       "      <td>down</td>\n",
       "    </tr>\n",
       "    <tr>\n",
       "      <th>4</th>\n",
       "      <td>2025-02-22</td>\n",
       "      <td>13</td>\n",
       "      <td>www.anh.gob.bo</td>\n",
       "      <td>down</td>\n",
       "    </tr>\n",
       "    <tr>\n",
       "      <th>...</th>\n",
       "      <td>...</td>\n",
       "      <td>...</td>\n",
       "      <td>...</td>\n",
       "      <td>...</td>\n",
       "    </tr>\n",
       "    <tr>\n",
       "      <th>1129</th>\n",
       "      <td>2025-04-22</td>\n",
       "      <td>0</td>\n",
       "      <td>www.rree.gob.bo</td>\n",
       "      <td>last_updated</td>\n",
       "    </tr>\n",
       "    <tr>\n",
       "      <th>1130</th>\n",
       "      <td>2020-08-10</td>\n",
       "      <td>0</td>\n",
       "      <td>www.google.com</td>\n",
       "      <td>created</td>\n",
       "    </tr>\n",
       "    <tr>\n",
       "      <th>1131</th>\n",
       "      <td>2024-11-24</td>\n",
       "      <td>0</td>\n",
       "      <td>www.google.com</td>\n",
       "      <td>last_updated</td>\n",
       "    </tr>\n",
       "    <tr>\n",
       "      <th>1132</th>\n",
       "      <td>2024-11-25</td>\n",
       "      <td>0</td>\n",
       "      <td>www.cns.gob.bo</td>\n",
       "      <td>created</td>\n",
       "    </tr>\n",
       "    <tr>\n",
       "      <th>1133</th>\n",
       "      <td>2025-04-21</td>\n",
       "      <td>0</td>\n",
       "      <td>www.cns.gob.bo</td>\n",
       "      <td>last_updated</td>\n",
       "    </tr>\n",
       "  </tbody>\n",
       "</table>\n",
       "<p>1134 rows × 4 columns</p>\n",
       "</div>"
      ],
      "text/plain": [
       "            date time           domain          type\n",
       "0     2025-04-20   24   www.anh.gob.bo          down\n",
       "1     2025-03-27   13   www.anh.gob.bo          down\n",
       "2     2025-03-18   31   www.anh.gob.bo          down\n",
       "3     2025-03-07   33   www.anh.gob.bo          down\n",
       "4     2025-02-22   13   www.anh.gob.bo          down\n",
       "...          ...  ...              ...           ...\n",
       "1129  2025-04-22    0  www.rree.gob.bo  last_updated\n",
       "1130  2020-08-10    0   www.google.com       created\n",
       "1131  2024-11-24    0   www.google.com  last_updated\n",
       "1132  2024-11-25    0   www.cns.gob.bo       created\n",
       "1133  2025-04-21    0   www.cns.gob.bo  last_updated\n",
       "\n",
       "[1134 rows x 4 columns]"
      ]
     },
     "execution_count": 3,
     "metadata": {},
     "output_type": "execute_result"
    }
   ],
   "source": [
    "# Buscar todos los archivos YAML en la carpeta \"history\"\n",
    "yaml_files = glob.glob(\"../history/*.yml\")\n",
    "records = []\n",
    "\n",
    "for file in yaml_files:\n",
    "    with open(file) as f:\n",
    "        data = yaml.safe_load(f)\n",
    "    # Extraer el dominio a partir de la URL\n",
    "    domain = urlparse(data.get(\"url\", \"\")).netloc\n",
    "    # Obtener y procesar el startTime para definir cuándo se creó el dominio\n",
    "    start_time = data.get(\"startTime\")\n",
    "    creation_date = None\n",
    "    if start_time:\n",
    "        try:\n",
    "            if isinstance(start_time, str):\n",
    "                dt = datetime.fromisoformat(start_time.replace(\"Z\", \"+00:00\"))\n",
    "            else:\n",
    "                dt = start_time\n",
    "            creation_date = dt.date().isoformat()\n",
    "        except Exception as e:\n",
    "            print(f\"Error al procesar startTime en {file}: {e}\")\n",
    "    last_update = data.get(\"lastUpdated\")\n",
    "    if last_update:\n",
    "        try:\n",
    "            if isinstance(last_update, str):\n",
    "                dt = datetime.fromisoformat(last_update.replace(\"Z\", \"+00:00\"))\n",
    "            else:\n",
    "                dt = last_update\n",
    "            last_update = dt.date().isoformat()\n",
    "        except Exception as e:\n",
    "            print(f\"Error al procesar lastUpdated en {file}: {e}\")\n",
    "\n",
    "    records.append(\n",
    "        {\"domain\": domain, \"date\": creation_date, \"time\": 0, \"type\": \"created\"}\n",
    "    )\n",
    "    records.append(\n",
    "        {\"domain\": domain, \"date\": last_update, \"time\": 0, \"type\": \"last_updated\"}\n",
    "    )\n",
    "\n",
    "# Crear un registro con la información de creación de cada dominio\n",
    "df_domain_created = pd.DataFrame(records)\n",
    "df = pd.concat([df, df_domain_created], ignore_index=True)\n",
    "df"
   ]
  },
  {
   "cell_type": "code",
   "execution_count": 4,
   "id": "df86548e",
   "metadata": {},
   "outputs": [
    {
     "data": {
      "application/vnd.microsoft.datawrangler.viewer.v0+json": {
       "columns": [
        {
         "name": "index",
         "rawType": "int64",
         "type": "integer"
        },
        {
         "name": "date",
         "rawType": "object",
         "type": "unknown"
        },
        {
         "name": "time",
         "rawType": "int64",
         "type": "integer"
        },
        {
         "name": "domain",
         "rawType": "object",
         "type": "string"
        },
        {
         "name": "type",
         "rawType": "category",
         "type": "unknown"
        }
       ],
       "conversionMethod": "pd.DataFrame",
       "ref": "998a2909-a762-46ef-8c16-cab7888b8f29",
       "rows": [
        [
         "0",
         "2025-04-20",
         "24",
         "www.anh.gob.bo",
         "down"
        ],
        [
         "1",
         "2025-03-27",
         "13",
         "www.anh.gob.bo",
         "down"
        ],
        [
         "2",
         "2025-03-18",
         "31",
         "www.anh.gob.bo",
         "down"
        ],
        [
         "3",
         "2025-03-07",
         "33",
         "www.anh.gob.bo",
         "down"
        ],
        [
         "4",
         "2025-02-22",
         "13",
         "www.anh.gob.bo",
         "down"
        ],
        [
         "5",
         "2025-02-13",
         "28",
         "www.anh.gob.bo",
         "down"
        ],
        [
         "6",
         "2025-01-09",
         "13",
         "www.anh.gob.bo",
         "down"
        ],
        [
         "7",
         "2024-12-19",
         "31",
         "www.anh.gob.bo",
         "down"
        ],
        [
         "8",
         "2025-04-16",
         "1040",
         "www.segip.gob.bo",
         "down"
        ],
        [
         "9",
         "2025-04-14",
         "1189",
         "www.segip.gob.bo",
         "down"
        ],
        [
         "10",
         "2025-04-13",
         "1440",
         "www.segip.gob.bo",
         "down"
        ],
        [
         "11",
         "2025-04-12",
         "1440",
         "www.segip.gob.bo",
         "down"
        ],
        [
         "12",
         "2025-04-11",
         "334",
         "www.segip.gob.bo",
         "down"
        ],
        [
         "13",
         "2025-04-10",
         "102",
         "www.segip.gob.bo",
         "down"
        ],
        [
         "14",
         "2025-04-09",
         "86",
         "www.segip.gob.bo",
         "down"
        ],
        [
         "15",
         "2025-04-08",
         "222",
         "www.segip.gob.bo",
         "down"
        ],
        [
         "16",
         "2025-04-07",
         "172",
         "www.segip.gob.bo",
         "down"
        ],
        [
         "17",
         "2025-04-06",
         "243",
         "www.segip.gob.bo",
         "down"
        ],
        [
         "18",
         "2025-04-05",
         "70",
         "www.segip.gob.bo",
         "down"
        ],
        [
         "19",
         "2025-04-04",
         "310",
         "www.segip.gob.bo",
         "down"
        ],
        [
         "20",
         "2025-04-03",
         "227",
         "www.segip.gob.bo",
         "down"
        ],
        [
         "21",
         "2025-04-02",
         "175",
         "www.segip.gob.bo",
         "down"
        ],
        [
         "22",
         "2025-04-01",
         "390",
         "www.segip.gob.bo",
         "down"
        ],
        [
         "23",
         "2025-03-31",
         "580",
         "www.segip.gob.bo",
         "down"
        ],
        [
         "24",
         "2025-03-30",
         "493",
         "www.segip.gob.bo",
         "down"
        ],
        [
         "25",
         "2025-04-22",
         "102",
         "www.impuestos.gob.bo",
         "down"
        ],
        [
         "26",
         "2025-04-21",
         "1440",
         "www.impuestos.gob.bo",
         "down"
        ],
        [
         "27",
         "2025-04-20",
         "1440",
         "www.impuestos.gob.bo",
         "down"
        ],
        [
         "28",
         "2025-04-19",
         "1440",
         "www.impuestos.gob.bo",
         "down"
        ],
        [
         "29",
         "2025-04-18",
         "1440",
         "www.impuestos.gob.bo",
         "down"
        ],
        [
         "30",
         "2025-04-17",
         "1440",
         "www.impuestos.gob.bo",
         "down"
        ],
        [
         "31",
         "2025-04-16",
         "1440",
         "www.impuestos.gob.bo",
         "down"
        ],
        [
         "32",
         "2025-04-15",
         "1440",
         "www.impuestos.gob.bo",
         "down"
        ],
        [
         "33",
         "2025-04-14",
         "1440",
         "www.impuestos.gob.bo",
         "down"
        ],
        [
         "34",
         "2025-04-13",
         "1440",
         "www.impuestos.gob.bo",
         "down"
        ],
        [
         "35",
         "2025-04-12",
         "1440",
         "www.impuestos.gob.bo",
         "down"
        ],
        [
         "36",
         "2025-04-11",
         "1440",
         "www.impuestos.gob.bo",
         "down"
        ],
        [
         "37",
         "2025-04-10",
         "1440",
         "www.impuestos.gob.bo",
         "down"
        ],
        [
         "38",
         "2025-04-09",
         "1440",
         "www.impuestos.gob.bo",
         "down"
        ],
        [
         "39",
         "2025-04-08",
         "1440",
         "www.impuestos.gob.bo",
         "down"
        ],
        [
         "40",
         "2025-04-07",
         "1440",
         "www.impuestos.gob.bo",
         "down"
        ],
        [
         "41",
         "2025-04-06",
         "1440",
         "www.impuestos.gob.bo",
         "down"
        ],
        [
         "42",
         "2025-04-05",
         "1440",
         "www.impuestos.gob.bo",
         "down"
        ],
        [
         "43",
         "2025-04-04",
         "1440",
         "www.impuestos.gob.bo",
         "down"
        ],
        [
         "44",
         "2025-04-03",
         "1440",
         "www.impuestos.gob.bo",
         "down"
        ],
        [
         "45",
         "2025-04-02",
         "1440",
         "www.impuestos.gob.bo",
         "down"
        ],
        [
         "46",
         "2025-04-01",
         "1440",
         "www.impuestos.gob.bo",
         "down"
        ],
        [
         "47",
         "2025-03-31",
         "1440",
         "www.impuestos.gob.bo",
         "down"
        ],
        [
         "48",
         "2025-03-30",
         "1440",
         "www.impuestos.gob.bo",
         "down"
        ],
        [
         "49",
         "2025-03-29",
         "1440",
         "www.impuestos.gob.bo",
         "down"
        ]
       ],
       "shape": {
        "columns": 4,
        "rows": 1134
       }
      },
      "text/html": [
       "<div>\n",
       "<style scoped>\n",
       "    .dataframe tbody tr th:only-of-type {\n",
       "        vertical-align: middle;\n",
       "    }\n",
       "\n",
       "    .dataframe tbody tr th {\n",
       "        vertical-align: top;\n",
       "    }\n",
       "\n",
       "    .dataframe thead th {\n",
       "        text-align: right;\n",
       "    }\n",
       "</style>\n",
       "<table border=\"1\" class=\"dataframe\">\n",
       "  <thead>\n",
       "    <tr style=\"text-align: right;\">\n",
       "      <th></th>\n",
       "      <th>date</th>\n",
       "      <th>time</th>\n",
       "      <th>domain</th>\n",
       "      <th>type</th>\n",
       "    </tr>\n",
       "  </thead>\n",
       "  <tbody>\n",
       "    <tr>\n",
       "      <th>0</th>\n",
       "      <td>2025-04-20</td>\n",
       "      <td>24</td>\n",
       "      <td>www.anh.gob.bo</td>\n",
       "      <td>down</td>\n",
       "    </tr>\n",
       "    <tr>\n",
       "      <th>1</th>\n",
       "      <td>2025-03-27</td>\n",
       "      <td>13</td>\n",
       "      <td>www.anh.gob.bo</td>\n",
       "      <td>down</td>\n",
       "    </tr>\n",
       "    <tr>\n",
       "      <th>2</th>\n",
       "      <td>2025-03-18</td>\n",
       "      <td>31</td>\n",
       "      <td>www.anh.gob.bo</td>\n",
       "      <td>down</td>\n",
       "    </tr>\n",
       "    <tr>\n",
       "      <th>3</th>\n",
       "      <td>2025-03-07</td>\n",
       "      <td>33</td>\n",
       "      <td>www.anh.gob.bo</td>\n",
       "      <td>down</td>\n",
       "    </tr>\n",
       "    <tr>\n",
       "      <th>4</th>\n",
       "      <td>2025-02-22</td>\n",
       "      <td>13</td>\n",
       "      <td>www.anh.gob.bo</td>\n",
       "      <td>down</td>\n",
       "    </tr>\n",
       "    <tr>\n",
       "      <th>...</th>\n",
       "      <td>...</td>\n",
       "      <td>...</td>\n",
       "      <td>...</td>\n",
       "      <td>...</td>\n",
       "    </tr>\n",
       "    <tr>\n",
       "      <th>1129</th>\n",
       "      <td>2025-04-22</td>\n",
       "      <td>0</td>\n",
       "      <td>www.rree.gob.bo</td>\n",
       "      <td>last_updated</td>\n",
       "    </tr>\n",
       "    <tr>\n",
       "      <th>1130</th>\n",
       "      <td>2020-08-10</td>\n",
       "      <td>0</td>\n",
       "      <td>www.google.com</td>\n",
       "      <td>created</td>\n",
       "    </tr>\n",
       "    <tr>\n",
       "      <th>1131</th>\n",
       "      <td>2024-11-24</td>\n",
       "      <td>0</td>\n",
       "      <td>www.google.com</td>\n",
       "      <td>last_updated</td>\n",
       "    </tr>\n",
       "    <tr>\n",
       "      <th>1132</th>\n",
       "      <td>2024-11-25</td>\n",
       "      <td>0</td>\n",
       "      <td>www.cns.gob.bo</td>\n",
       "      <td>created</td>\n",
       "    </tr>\n",
       "    <tr>\n",
       "      <th>1133</th>\n",
       "      <td>2025-04-21</td>\n",
       "      <td>0</td>\n",
       "      <td>www.cns.gob.bo</td>\n",
       "      <td>last_updated</td>\n",
       "    </tr>\n",
       "  </tbody>\n",
       "</table>\n",
       "<p>1134 rows × 4 columns</p>\n",
       "</div>"
      ],
      "text/plain": [
       "            date  time           domain          type\n",
       "0     2025-04-20    24   www.anh.gob.bo          down\n",
       "1     2025-03-27    13   www.anh.gob.bo          down\n",
       "2     2025-03-18    31   www.anh.gob.bo          down\n",
       "3     2025-03-07    33   www.anh.gob.bo          down\n",
       "4     2025-02-22    13   www.anh.gob.bo          down\n",
       "...          ...   ...              ...           ...\n",
       "1129  2025-04-22     0  www.rree.gob.bo  last_updated\n",
       "1130  2020-08-10     0   www.google.com       created\n",
       "1131  2024-11-24     0   www.google.com  last_updated\n",
       "1132  2024-11-25     0   www.cns.gob.bo       created\n",
       "1133  2025-04-21     0   www.cns.gob.bo  last_updated\n",
       "\n",
       "[1134 rows x 4 columns]"
      ]
     },
     "execution_count": 4,
     "metadata": {},
     "output_type": "execute_result"
    }
   ],
   "source": [
    "df[\"date\"] = pd.to_datetime(df[\"date\"]).dt.date\n",
    "df[\"time\"] = df[\"time\"].astype(int)\n",
    "df[\"domain\"] = df[\"domain\"].astype(str)\n",
    "df[\"type\"] = df[\"type\"].astype(\"category\")\n",
    "df"
   ]
  },
  {
   "cell_type": "code",
   "execution_count": 5,
   "id": "6a1c74a0",
   "metadata": {},
   "outputs": [],
   "source": [
    "df.to_parquet(\n",
    "    \"../history/summary.parquet\",\n",
    "    index=False\n",
    ")"
   ]
  }
 ],
 "metadata": {
  "kernelspec": {
   "display_name": ".venv",
   "language": "python",
   "name": "python3"
  },
  "language_info": {
   "codemirror_mode": {
    "name": "ipython",
    "version": 3
   },
   "file_extension": ".py",
   "mimetype": "text/x-python",
   "name": "python",
   "nbconvert_exporter": "python",
   "pygments_lexer": "ipython3",
   "version": "3.10.12"
  }
 },
 "nbformat": 4,
 "nbformat_minor": 5
}
